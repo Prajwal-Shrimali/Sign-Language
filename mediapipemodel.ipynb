{
 "cells": [
  {
   "cell_type": "code",
   "execution_count": null,
   "metadata": {
    "trusted": true
   },
   "outputs": [
    {
     "name": "stdout",
     "output_type": "stream",
     "text": [
      "✅ Setup complete.\n"
     ]
    }
   ],
   "source": [
    "import os\n",
    "import shutil\n",
    "import cv2\n",
    "import mediapipe as mp\n",
    "import tqdm\n",
    "import tensorflow as tf\n",
    "import pandas as pd\n",
    "from tensorflow.keras import layers, models\n",
    "from tensorflow.keras.callbacks import EarlyStopping, ReduceLROnPlateau, ModelCheckpoint\n",
    "from tensorflow.keras.optimizers import Adam\n",
    "\n",
    "# Dataset path in Kaggle\n",
    "file_path = '/Synthetic ASL Alphabet/'  # Path to Synthetic ASL Alphabet dataset\n",
    "\n",
    "IMG_HEIGHT, IMG_WIDTH = 32, 32\n",
    "BATCH_SIZE = 32\n",
    "EPOCHS = 20\n",
    "NUM_CLASSES = 29\n",
    "\n",
    "TRAIN_DATA_DIR = './Synthetic ASL Alphabet/Train_Alphabet'\n",
    "TEST_DATA_DIR = './Synthetic ASL Alphabet/Test_Alphabet/' \n",
    "\n",
    "# Enable mixed precision and GPU memory growth\n",
    "tf.keras.mixed_precision.set_global_policy('mixed_float16')\n",
    "\n",
    "gpus = tf.config.list_physical_devices('GPU')\n",
    "if gpus:\n",
    "    for gpu in gpus:\n",
    "        tf.config.experimental.set_memory_growth(gpu, True)\n",
    "\n",
    "print(\"✅ Setup complete.\")\n"
   ]
  },
  {
   "cell_type": "code",
   "execution_count": 2,
   "metadata": {
    "execution": {
     "iopub.execute_input": "2025-07-28T17:32:19.897699Z",
     "iopub.status.busy": "2025-07-28T17:32:19.896857Z",
     "iopub.status.idle": "2025-07-28T17:32:19.902633Z",
     "shell.execute_reply": "2025-07-28T17:32:19.902030Z",
     "shell.execute_reply.started": "2025-07-28T17:32:19.897657Z"
    },
    "id": "TYiafupzEhGy",
    "outputId": "de4d83a8-6819-4cc1-db46-02b30e2087c5",
    "trusted": true
   },
   "outputs": [
    {
     "name": "stdout",
     "output_type": "stream",
     "text": [
      "✅ Setup complete.\n"
     ]
    }
   ],
   "source": [
    "# Enable mixed precision and GPU memory growth\n",
    "tf.keras.mixed_precision.set_global_policy('mixed_float16')\n",
    "\n",
    "gpus = tf.config.list_physical_devices('GPU')\n",
    "if gpus:\n",
    "    for gpu in gpus:\n",
    "        tf.config.experimental.set_memory_growth(gpu, True)\n",
    "\n",
    "print(\"✅ Setup complete.\")"
   ]
  },
  {
   "cell_type": "code",
   "execution_count": null,
   "metadata": {
    "execution": {
     "iopub.execute_input": "2025-07-28T17:32:22.849104Z",
     "iopub.status.busy": "2025-07-28T17:32:22.848862Z",
     "iopub.status.idle": "2025-07-28T18:34:16.271223Z",
     "shell.execute_reply": "2025-07-28T18:34:16.270568Z",
     "shell.execute_reply.started": "2025-07-28T17:32:22.849088Z"
    },
    "executionInfo": {
     "elapsed": 252645,
     "status": "ok",
     "timestamp": 1753192465729,
     "user": {
      "displayName": "Gemie Sonamai",
      "userId": "08768956709421337895"
     },
     "user_tz": -420
    },
    "id": "9HwskUvVVEIt",
    "outputId": "be514267-b59c-4536-c9f9-ac5d478e923b",
    "trusted": true
   },
   "outputs": [
    {
     "name": "stderr",
     "output_type": "stream",
     "text": [
      "📥 Collecting real samples:   4%|▎         | 1/27 [01:02<27:17, 62.98s/it]"
     ]
    },
    {
     "name": "stdout",
     "output_type": "stream",
     "text": [
      "✅ A          finalized with 750 samples\n"
     ]
    },
    {
     "name": "stderr",
     "output_type": "stream",
     "text": [
      "📥 Collecting real samples:   7%|▋         | 2/27 [02:06<26:22, 63.28s/it]"
     ]
    },
    {
     "name": "stdout",
     "output_type": "stream",
     "text": [
      "✅ B          finalized with 750 samples\n"
     ]
    },
    {
     "name": "stderr",
     "output_type": "stream",
     "text": [
      "📥 Collecting real samples:  11%|█         | 3/27 [03:15<26:19, 65.82s/it]"
     ]
    },
    {
     "name": "stdout",
     "output_type": "stream",
     "text": [
      "✅ C          finalized with 750 samples\n"
     ]
    },
    {
     "name": "stderr",
     "output_type": "stream",
     "text": [
      "📥 Collecting real samples:  15%|█▍        | 4/27 [04:39<27:59, 73.03s/it]"
     ]
    },
    {
     "name": "stdout",
     "output_type": "stream",
     "text": [
      "✅ D          finalized with 750 samples\n"
     ]
    },
    {
     "name": "stderr",
     "output_type": "stream",
     "text": [
      "📥 Collecting real samples:  19%|█▊        | 5/27 [06:02<28:06, 76.66s/it]"
     ]
    },
    {
     "name": "stdout",
     "output_type": "stream",
     "text": [
      "✅ E          finalized with 750 samples\n"
     ]
    },
    {
     "name": "stderr",
     "output_type": "stream",
     "text": [
      "📥 Collecting real samples:  22%|██▏       | 6/27 [07:31<28:18, 80.86s/it]"
     ]
    },
    {
     "name": "stdout",
     "output_type": "stream",
     "text": [
      "✅ F          finalized with 750 samples\n"
     ]
    },
    {
     "name": "stderr",
     "output_type": "stream",
     "text": [
      "📥 Collecting real samples:  26%|██▌       | 7/27 [08:56<27:26, 82.35s/it]"
     ]
    },
    {
     "name": "stdout",
     "output_type": "stream",
     "text": [
      "✅ G          finalized with 750 samples\n"
     ]
    },
    {
     "name": "stderr",
     "output_type": "stream",
     "text": [
      "📥 Collecting real samples:  30%|██▉       | 8/27 [10:22<26:23, 83.35s/it]"
     ]
    },
    {
     "name": "stdout",
     "output_type": "stream",
     "text": [
      "✅ H          finalized with 750 samples\n"
     ]
    },
    {
     "name": "stderr",
     "output_type": "stream",
     "text": [
      "📥 Collecting real samples:  33%|███▎      | 9/27 [11:48<25:14, 84.12s/it]"
     ]
    },
    {
     "name": "stdout",
     "output_type": "stream",
     "text": [
      "✅ I          finalized with 750 samples\n"
     ]
    },
    {
     "name": "stderr",
     "output_type": "stream",
     "text": [
      "📥 Collecting real samples:  37%|███▋      | 10/27 [13:15<24:07, 85.15s/it]"
     ]
    },
    {
     "name": "stdout",
     "output_type": "stream",
     "text": [
      "✅ J          finalized with 750 samples\n"
     ]
    },
    {
     "name": "stderr",
     "output_type": "stream",
     "text": [
      "📥 Collecting real samples:  41%|████      | 11/27 [14:44<22:59, 86.23s/it]"
     ]
    },
    {
     "name": "stdout",
     "output_type": "stream",
     "text": [
      "✅ K          finalized with 750 samples\n"
     ]
    },
    {
     "name": "stderr",
     "output_type": "stream",
     "text": [
      "📥 Collecting real samples:  44%|████▍     | 12/27 [16:27<22:50, 91.39s/it]"
     ]
    },
    {
     "name": "stdout",
     "output_type": "stream",
     "text": [
      "✅ L          finalized with 750 samples\n"
     ]
    },
    {
     "name": "stderr",
     "output_type": "stream",
     "text": [
      "📥 Collecting real samples:  48%|████▊     | 13/27 [18:08<22:00, 94.33s/it]"
     ]
    },
    {
     "name": "stdout",
     "output_type": "stream",
     "text": [
      "✅ M          finalized with 750 samples\n"
     ]
    },
    {
     "name": "stderr",
     "output_type": "stream",
     "text": [
      "📥 Collecting real samples:  52%|█████▏    | 14/27 [19:42<20:24, 94.17s/it]"
     ]
    },
    {
     "name": "stdout",
     "output_type": "stream",
     "text": [
      "✅ N          finalized with 750 samples\n"
     ]
    },
    {
     "name": "stderr",
     "output_type": "stream",
     "text": [
      "📥 Collecting real samples:  56%|█████▌    | 15/27 [21:05<18:08, 90.70s/it]"
     ]
    },
    {
     "name": "stdout",
     "output_type": "stream",
     "text": [
      "✅ O          finalized with 750 samples\n"
     ]
    },
    {
     "name": "stderr",
     "output_type": "stream",
     "text": [
      "📥 Collecting real samples:  59%|█████▉    | 16/27 [22:25<16:02, 87.47s/it]"
     ]
    },
    {
     "name": "stdout",
     "output_type": "stream",
     "text": [
      "✅ P          finalized with 750 samples\n"
     ]
    },
    {
     "name": "stderr",
     "output_type": "stream",
     "text": [
      "📥 Collecting real samples:  63%|██████▎   | 17/27 [23:46<14:16, 85.62s/it]"
     ]
    },
    {
     "name": "stdout",
     "output_type": "stream",
     "text": [
      "✅ Q          finalized with 750 samples\n"
     ]
    },
    {
     "name": "stderr",
     "output_type": "stream",
     "text": [
      "📥 Collecting real samples:  67%|██████▋   | 18/27 [25:12<12:51, 85.68s/it]"
     ]
    },
    {
     "name": "stdout",
     "output_type": "stream",
     "text": [
      "✅ R          finalized with 750 samples\n"
     ]
    },
    {
     "name": "stderr",
     "output_type": "stream",
     "text": [
      "📥 Collecting real samples:  70%|███████   | 19/27 [26:36<11:23, 85.40s/it]"
     ]
    },
    {
     "name": "stdout",
     "output_type": "stream",
     "text": [
      "✅ S          finalized with 750 samples\n"
     ]
    },
    {
     "name": "stderr",
     "output_type": "stream",
     "text": [
      "📥 Collecting real samples:  74%|███████▍  | 20/27 [28:14<10:23, 89.13s/it]"
     ]
    },
    {
     "name": "stdout",
     "output_type": "stream",
     "text": [
      "✅ T          finalized with 750 samples\n"
     ]
    },
    {
     "name": "stderr",
     "output_type": "stream",
     "text": [
      "📥 Collecting real samples:  78%|███████▊  | 21/27 [30:05<09:32, 95.49s/it]"
     ]
    },
    {
     "name": "stdout",
     "output_type": "stream",
     "text": [
      "✅ U          finalized with 750 samples\n"
     ]
    },
    {
     "name": "stderr",
     "output_type": "stream",
     "text": [
      "📥 Collecting real samples:  81%|████████▏ | 22/27 [31:58<08:23, 100.72s/it]"
     ]
    },
    {
     "name": "stdout",
     "output_type": "stream",
     "text": [
      "✅ V          finalized with 750 samples\n"
     ]
    },
    {
     "name": "stderr",
     "output_type": "stream",
     "text": [
      "📥 Collecting real samples:  85%|████████▌ | 23/27 [33:48<06:55, 103.76s/it]"
     ]
    },
    {
     "name": "stdout",
     "output_type": "stream",
     "text": [
      "✅ W          finalized with 750 samples\n"
     ]
    },
    {
     "name": "stderr",
     "output_type": "stream",
     "text": [
      "📥 Collecting real samples:  89%|████████▉ | 24/27 [35:35<05:14, 104.70s/it]"
     ]
    },
    {
     "name": "stdout",
     "output_type": "stream",
     "text": [
      "✅ X          finalized with 750 samples\n"
     ]
    },
    {
     "name": "stderr",
     "output_type": "stream",
     "text": [
      "📥 Collecting real samples:  93%|█████████▎| 25/27 [37:26<03:33, 106.55s/it]"
     ]
    },
    {
     "name": "stdout",
     "output_type": "stream",
     "text": [
      "✅ Y          finalized with 750 samples\n"
     ]
    },
    {
     "name": "stderr",
     "output_type": "stream",
     "text": [
      "📥 Collecting real samples: 100%|██████████| 27/27 [39:19<00:00, 87.39s/it] \n"
     ]
    },
    {
     "name": "stdout",
     "output_type": "stream",
     "text": [
      "✅ Z          finalized with 750 samples\n",
      "🧪 'nothing' → Injected 750 synthetic 'blank' samples\n"
     ]
    },
    {
     "name": "stderr",
     "output_type": "stream",
     "text": [
      "📦 Overall class progress:   4%|▎         | 1/27 [00:41<17:46, 41.00s/it]"
     ]
    },
    {
     "name": "stdout",
     "output_type": "stream",
     "text": [
      "✅ A          collected 865 samples\n"
     ]
    },
    {
     "name": "stderr",
     "output_type": "stream",
     "text": [
      "📦 Overall class progress:   7%|▋         | 2/27 [01:21<16:55, 40.62s/it]"
     ]
    },
    {
     "name": "stdout",
     "output_type": "stream",
     "text": [
      "✅ B          collected 847 samples\n"
     ]
    },
    {
     "name": "stderr",
     "output_type": "stream",
     "text": [
      "📦 Overall class progress:  11%|█         | 3/27 [01:49<14:01, 35.06s/it]"
     ]
    },
    {
     "name": "stdout",
     "output_type": "stream",
     "text": [
      "✅ Blank      collected 5 samples\n"
     ]
    },
    {
     "name": "stderr",
     "output_type": "stream",
     "text": [
      "📦 Overall class progress:  15%|█▍        | 4/27 [02:31<14:23, 37.54s/it]"
     ]
    },
    {
     "name": "stdout",
     "output_type": "stream",
     "text": [
      "✅ C          collected 863 samples\n"
     ]
    },
    {
     "name": "stderr",
     "output_type": "stream",
     "text": [
      "📦 Overall class progress:  19%|█▊        | 5/27 [03:01<12:50, 35.02s/it]"
     ]
    },
    {
     "name": "stdout",
     "output_type": "stream",
     "text": [
      "✅ D          collected 820 samples\n"
     ]
    },
    {
     "name": "stderr",
     "output_type": "stream",
     "text": [
      "📦 Overall class progress:  22%|██▏       | 6/27 [03:31<11:38, 33.25s/it]"
     ]
    },
    {
     "name": "stdout",
     "output_type": "stream",
     "text": [
      "✅ E          collected 783 samples\n"
     ]
    },
    {
     "name": "stderr",
     "output_type": "stream",
     "text": [
      "📦 Overall class progress:  26%|██▌       | 7/27 [04:02<10:47, 32.36s/it]"
     ]
    },
    {
     "name": "stdout",
     "output_type": "stream",
     "text": [
      "✅ F          collected 826 samples\n"
     ]
    },
    {
     "name": "stderr",
     "output_type": "stream",
     "text": [
      "📦 Overall class progress:  30%|██▉       | 8/27 [04:32<10:06, 31.91s/it]"
     ]
    },
    {
     "name": "stdout",
     "output_type": "stream",
     "text": [
      "✅ G          collected 883 samples\n"
     ]
    },
    {
     "name": "stderr",
     "output_type": "stream",
     "text": [
      "📦 Overall class progress:  33%|███▎      | 9/27 [05:07<09:50, 32.83s/it]"
     ]
    },
    {
     "name": "stdout",
     "output_type": "stream",
     "text": [
      "✅ H          collected 869 samples\n"
     ]
    },
    {
     "name": "stderr",
     "output_type": "stream",
     "text": [
      "📦 Overall class progress:  37%|███▋      | 10/27 [05:47<09:54, 34.98s/it]"
     ]
    },
    {
     "name": "stdout",
     "output_type": "stream",
     "text": [
      "✅ I          collected 858 samples\n"
     ]
    },
    {
     "name": "stderr",
     "output_type": "stream",
     "text": [
      "📦 Overall class progress:  41%|████      | 11/27 [06:27<09:42, 36.43s/it]"
     ]
    },
    {
     "name": "stdout",
     "output_type": "stream",
     "text": [
      "✅ J          collected 862 samples\n"
     ]
    },
    {
     "name": "stderr",
     "output_type": "stream",
     "text": [
      "📦 Overall class progress:  44%|████▍     | 12/27 [07:08<09:26, 37.75s/it]"
     ]
    },
    {
     "name": "stdout",
     "output_type": "stream",
     "text": [
      "✅ K          collected 838 samples\n"
     ]
    },
    {
     "name": "stderr",
     "output_type": "stream",
     "text": [
      "📦 Overall class progress:  48%|████▊     | 13/27 [07:48<08:59, 38.53s/it]"
     ]
    },
    {
     "name": "stdout",
     "output_type": "stream",
     "text": [
      "✅ L          collected 825 samples\n"
     ]
    },
    {
     "name": "stderr",
     "output_type": "stream",
     "text": [
      "📦 Overall class progress:  52%|█████▏    | 14/27 [08:27<08:24, 38.78s/it]"
     ]
    },
    {
     "name": "stdout",
     "output_type": "stream",
     "text": [
      "✅ M          collected 814 samples\n"
     ]
    },
    {
     "name": "stderr",
     "output_type": "stream",
     "text": [
      "📦 Overall class progress:  56%|█████▌    | 15/27 [09:08<07:52, 39.35s/it]"
     ]
    },
    {
     "name": "stdout",
     "output_type": "stream",
     "text": [
      "✅ N          collected 857 samples\n"
     ]
    },
    {
     "name": "stderr",
     "output_type": "stream",
     "text": [
      "📦 Overall class progress:  59%|█████▉    | 16/27 [09:47<07:13, 39.39s/it]"
     ]
    },
    {
     "name": "stdout",
     "output_type": "stream",
     "text": [
      "✅ O          collected 844 samples\n"
     ]
    },
    {
     "name": "stderr",
     "output_type": "stream",
     "text": [
      "📦 Overall class progress:  63%|██████▎   | 17/27 [10:27<06:33, 39.31s/it]"
     ]
    },
    {
     "name": "stdout",
     "output_type": "stream",
     "text": [
      "✅ P          collected 833 samples\n"
     ]
    },
    {
     "name": "stderr",
     "output_type": "stream",
     "text": [
      "📦 Overall class progress:  67%|██████▋   | 18/27 [11:05<05:52, 39.18s/it]"
     ]
    },
    {
     "name": "stdout",
     "output_type": "stream",
     "text": [
      "✅ Q          collected 854 samples\n"
     ]
    },
    {
     "name": "stderr",
     "output_type": "stream",
     "text": [
      "📦 Overall class progress:  70%|███████   | 19/27 [11:45<05:14, 39.30s/it]"
     ]
    },
    {
     "name": "stdout",
     "output_type": "stream",
     "text": [
      "✅ R          collected 847 samples\n"
     ]
    },
    {
     "name": "stderr",
     "output_type": "stream",
     "text": [
      "📦 Overall class progress:  74%|███████▍  | 20/27 [12:24<04:33, 39.12s/it]"
     ]
    },
    {
     "name": "stdout",
     "output_type": "stream",
     "text": [
      "✅ S          collected 833 samples\n"
     ]
    },
    {
     "name": "stderr",
     "output_type": "stream",
     "text": [
      "📦 Overall class progress:  78%|███████▊  | 21/27 [13:04<03:56, 39.48s/it]"
     ]
    },
    {
     "name": "stdout",
     "output_type": "stream",
     "text": [
      "✅ T          collected 871 samples\n"
     ]
    },
    {
     "name": "stderr",
     "output_type": "stream",
     "text": [
      "📦 Overall class progress:  81%|████████▏ | 22/27 [13:45<03:20, 40.02s/it]"
     ]
    },
    {
     "name": "stdout",
     "output_type": "stream",
     "text": [
      "✅ U          collected 842 samples\n"
     ]
    },
    {
     "name": "stderr",
     "output_type": "stream",
     "text": [
      "📦 Overall class progress:  85%|████████▌ | 23/27 [14:26<02:40, 40.25s/it]"
     ]
    },
    {
     "name": "stdout",
     "output_type": "stream",
     "text": [
      "✅ V          collected 797 samples\n"
     ]
    },
    {
     "name": "stderr",
     "output_type": "stream",
     "text": [
      "📦 Overall class progress:  89%|████████▉ | 24/27 [15:07<02:01, 40.56s/it]"
     ]
    },
    {
     "name": "stdout",
     "output_type": "stream",
     "text": [
      "✅ W          collected 840 samples\n"
     ]
    },
    {
     "name": "stderr",
     "output_type": "stream",
     "text": [
      "📦 Overall class progress:  93%|█████████▎| 25/27 [15:48<01:20, 40.48s/it]"
     ]
    },
    {
     "name": "stdout",
     "output_type": "stream",
     "text": [
      "✅ X          collected 803 samples\n"
     ]
    },
    {
     "name": "stderr",
     "output_type": "stream",
     "text": [
      "📦 Overall class progress:  96%|█████████▋| 26/27 [16:27<00:40, 40.18s/it]"
     ]
    },
    {
     "name": "stdout",
     "output_type": "stream",
     "text": [
      "✅ Y          collected 764 samples\n"
     ]
    },
    {
     "name": "stderr",
     "output_type": "stream",
     "text": [
      "📦 Overall class progress: 100%|██████████| 27/27 [17:07<00:00, 38.05s/it]\n"
     ]
    },
    {
     "name": "stdout",
     "output_type": "stream",
     "text": [
      "✅ Z          collected 772 samples\n",
      "✅ Saved 41965 samples to ./working/hand_landmarks_with_features.csv\n"
     ]
    }
   ],
   "source": [
    "import os\n",
    "import cv2\n",
    "import numpy as np\n",
    "import pandas as pd\n",
    "from tqdm import tqdm\n",
    "import sys\n",
    "import random\n",
    "import mediapipe as mp\n",
    "import math\n",
    "\n",
    "mp_hands = mp.solutions.hands\n",
    "hands = mp_hands.Hands(static_image_mode=True)\n",
    "IMG_SIZE = 224\n",
    "\n",
    "data = []\n",
    "label = []\n",
    "\n",
    "folders = os.listdir(TRAIN_DATA_DIR)\n",
    "\n",
    "REAL_DATA_DIR = \"./ASL Letters/asl_alphabet_train/asl_alphabet_train/\"\n",
    "REAL_LABELS = [chr(i) for i in range(ord('A'), ord('Z') + 1)] + [\"nothing\"]\n",
    "\n",
    "MAX_SAMPLES_PER_CLASS = 750\n",
    "OVERDRAW_LIMIT = 3000\n",
    "\n",
    "# ✅ Utility: Normalize landmarks\n",
    "def normalize_landmarks(landmarks):\n",
    "    base_x, base_y, base_z = landmarks[0]\n",
    "    normalized = [(x - base_x, y - base_y, z - base_z) for (x, y, z) in landmarks]\n",
    "    flat = np.array(normalized).flatten()\n",
    "    norm = np.linalg.norm(flat)\n",
    "    return flat / norm if norm != 0 else flat\n",
    "\n",
    "# ✅ Utility: Pairwise distances\n",
    "def get_distance_features(landmarks):\n",
    "    distances = []\n",
    "    for i in range(len(landmarks)):\n",
    "        for j in range(i + 1, len(landmarks)):\n",
    "            xi, yi, zi = landmarks[i]\n",
    "            xj, yj, zj = landmarks[j]\n",
    "            dist = math.sqrt((xi - xj) ** 2 + (yi - yj) ** 2 + (zi - zj) ** 2)\n",
    "            distances.append(dist)\n",
    "    return distances\n",
    "\n",
    "# ✅ Utility: Angle between vectors\n",
    "def get_angle_features(landmarks):\n",
    "    angles = []\n",
    "    for i in range(1, len(landmarks) - 1):\n",
    "        a = np.array(landmarks[i - 1])\n",
    "        b = np.array(landmarks[i])\n",
    "        c = np.array(landmarks[i + 1])\n",
    "        ba = a - b\n",
    "        bc = c - b\n",
    "        cosine_angle = np.dot(ba, bc) / (np.linalg.norm(ba) * np.linalg.norm(bc) + 1e-6)\n",
    "        angle = np.arccos(np.clip(cosine_angle, -1.0, 1.0))\n",
    "        angles.append(np.degrees(angle))\n",
    "    return angles\n",
    "\n",
    "# ✅ Feature vector: combine all three\n",
    "def extract_features(landmarks):\n",
    "    norm = normalize_landmarks(landmarks)\n",
    "    dist = get_distance_features(landmarks)\n",
    "    angle = get_angle_features(landmarks)\n",
    "    return np.concatenate([norm, dist, angle])\n",
    "\n",
    "# ✅ REAL DATA\n",
    "for label_name in tqdm(REAL_LABELS, desc=\"📥 Collecting real samples\"):\n",
    "    folder_path = os.path.join(REAL_DATA_DIR, label_name)\n",
    "\n",
    "    if label_name == \"nothing\":\n",
    "        placeholder_row = [0.0] * (21 * 3 + 210 + 19)  # landmark(63) + dist(210) + angle(19)\n",
    "        for _ in range(MAX_SAMPLES_PER_CLASS):\n",
    "            data.append(placeholder_row)\n",
    "            label.append(\"blank\")\n",
    "        tqdm.write(f\"🧪 'nothing' → Injected {MAX_SAMPLES_PER_CLASS} synthetic 'blank' samples\")\n",
    "        continue\n",
    "\n",
    "    if not os.path.exists(folder_path):\n",
    "        tqdm.write(f\"⚠️ Missing folder: {label_name}\")\n",
    "        continue\n",
    "\n",
    "    files = [f for f in os.listdir(folder_path) if f.lower().endswith(('.jpg', '.jpeg', '.png'))]\n",
    "    random.shuffle(files)\n",
    "    files = files[:OVERDRAW_LIMIT]\n",
    "\n",
    "    valid_samples = []\n",
    "    sample_count = 0\n",
    "\n",
    "    for file in files:\n",
    "        if sample_count >= OVERDRAW_LIMIT:\n",
    "            break\n",
    "\n",
    "        try:\n",
    "            img = cv2.imread(os.path.join(folder_path, file))\n",
    "            if img is None:\n",
    "                continue\n",
    "\n",
    "            img = cv2.resize(img, (IMG_SIZE, IMG_SIZE))\n",
    "            img_rgb = cv2.cvtColor(img, cv2.COLOR_BGR2RGB)\n",
    "            results = hands.process(img_rgb)\n",
    "\n",
    "            if results.multi_hand_landmarks:\n",
    "                hand_landmarks = results.multi_hand_landmarks[0]\n",
    "                landmarks = [(lm.x, lm.y, lm.z) for lm in hand_landmarks.landmark]\n",
    "                feature_vector = extract_features(landmarks)\n",
    "                valid_samples.append((feature_vector, label_name))\n",
    "                sample_count += 1\n",
    "        except Exception as e:\n",
    "            tqdm.write(f\"⚠️ Error in '{file}': {e}\")\n",
    "            continue\n",
    "\n",
    "    valid_samples = valid_samples[:MAX_SAMPLES_PER_CLASS]\n",
    "    for row, label_value in valid_samples:\n",
    "        data.append(row)\n",
    "        label.append(label_value)\n",
    "\n",
    "    tqdm.write(f\"✅ {label_name:<10} finalized with {len(valid_samples)} samples\")\n",
    "\n",
    "# ✅ SYNTHETIC/EXTRA\n",
    "for labels in tqdm(folders, desc=\"📦 Overall class progress\"):\n",
    "    letter_folders = os.path.join(TRAIN_DATA_DIR, labels)\n",
    "    sample_count = 0\n",
    "    img_files = os.listdir(letter_folders)\n",
    "\n",
    "    for img_file in img_files:\n",
    "        if sample_count >= 900:\n",
    "            break\n",
    "\n",
    "        try:\n",
    "            img = cv2.imread(os.path.join(letter_folders, img_file))\n",
    "            if img is None:\n",
    "                continue\n",
    "\n",
    "            img = cv2.resize(img, (IMG_SIZE, IMG_SIZE))\n",
    "            img_rgb = cv2.cvtColor(img, cv2.COLOR_BGR2RGB)\n",
    "            results = hands.process(img_rgb)\n",
    "\n",
    "            if results.multi_hand_landmarks:\n",
    "                hand_landmarks = results.multi_hand_landmarks[0]\n",
    "                landmarks = [(lm.x, lm.y, lm.z) for lm in hand_landmarks.landmark]\n",
    "                feature_vector = extract_features(landmarks)\n",
    "                data.append(feature_vector)\n",
    "                label.append(labels)\n",
    "                sample_count += 1\n",
    "        except Exception as e:\n",
    "            tqdm.write(f\"⚠️ Error: {e}\")\n",
    "            continue\n",
    "\n",
    "    tqdm.write(f\"✅ {labels:<10} collected {sample_count} samples\")\n",
    "\n",
    "# ✅ Save\n",
    "if data:\n",
    "    df = pd.DataFrame(data)\n",
    "    df[\"label\"] = label\n",
    "    output_path = \"./working/hand_landmarks_with_features.csv\"\n",
    "    df.to_csv(output_path, index=False)\n",
    "    print(f\"✅ Saved {len(df)} samples to {output_path}\")\n",
    "else:\n",
    "    print(\"⚠️ No valid hand landmarks found. Nothing saved.\")\n",
    "\n"
   ]
  },
  {
   "cell_type": "code",
   "execution_count": null,
   "metadata": {
    "execution": {
     "iopub.execute_input": "2025-07-28T19:02:54.267623Z",
     "iopub.status.busy": "2025-07-28T19:02:54.267006Z",
     "iopub.status.idle": "2025-07-28T19:02:54.786609Z",
     "shell.execute_reply": "2025-07-28T19:02:54.785836Z",
     "shell.execute_reply.started": "2025-07-28T19:02:54.267597Z"
    },
    "executionInfo": {
     "elapsed": 563,
     "status": "ok",
     "timestamp": 1753193556857,
     "user": {
      "displayName": "Gemie Sonamai",
      "userId": "08768956709421337895"
     },
     "user_tz": -420
    },
    "id": "nq2wovjyeYwe",
    "outputId": "7effec9e-ff9b-4621-9f6d-20e27d8b2a01",
    "trusted": true
   },
   "outputs": [
    {
     "name": "stdout",
     "output_type": "stream",
     "text": [
      "📊 Class distribution:\n",
      "A        → 1615 samples\n",
      "B        → 1597 samples\n",
      "Blank    → 5 samples\n",
      "C        → 1613 samples\n",
      "D        → 1570 samples\n",
      "E        → 1533 samples\n",
      "F        → 1576 samples\n",
      "G        → 1633 samples\n",
      "H        → 1619 samples\n",
      "I        → 1608 samples\n",
      "J        → 1612 samples\n",
      "K        → 1588 samples\n",
      "L        → 1575 samples\n",
      "M        → 1564 samples\n",
      "N        → 1607 samples\n",
      "O        → 1594 samples\n",
      "P        → 1583 samples\n",
      "Q        → 1604 samples\n",
      "R        → 1597 samples\n",
      "S        → 1583 samples\n",
      "T        → 1621 samples\n",
      "U        → 1592 samples\n",
      "V        → 1547 samples\n",
      "W        → 1590 samples\n",
      "X        → 1553 samples\n",
      "Y        → 1514 samples\n",
      "Z        → 1522 samples\n",
      "blank    → 750 samples\n",
      "✅ Training data shape: (29375, 292)\n",
      "✅ Test data shape: (12590, 292)\n"
     ]
    }
   ],
   "source": [
    "from sklearn.preprocessing import LabelEncoder\n",
    "from sklearn.model_selection import train_test_split\n",
    "from tensorflow.keras.utils import to_categorical\n",
    "import numpy as np\n",
    "import joblib\n",
    "\n",
    "# Load dataset\n",
    "df = pd.read_csv(\"./working/hand_landmarks_with_features.csv\")\n",
    "X = df.drop(\"label\", axis=1).values\n",
    "y = df[\"label\"]\n",
    "\n",
    "# Encode labels\n",
    "encoder = LabelEncoder()\n",
    "y_encoded = encoder.fit_transform(y)\n",
    "\n",
    "# Optional: Show label distribution\n",
    "unique_labels, counts = np.unique(y_encoded, return_counts=True)\n",
    "print(\"📊 Class distribution:\")\n",
    "for lbl, cnt in zip(unique_labels, counts):\n",
    "    print(f\"{encoder.inverse_transform([lbl])[0]:<8} → {cnt} samples\")\n",
    "\n",
    "# Save the encoder for inference later\n",
    "joblib.dump(encoder, \"./working/label_encoder.pkl\")\n",
    "\n",
    "# One-hot encode\n",
    "num_classes = len(np.unique(y_encoded))\n",
    "y_final = to_categorical(y_encoded, num_classes=num_classes)\n",
    "\n",
    "# Train-test split\n",
    "X_train, X_test, y_train, y_test = train_test_split(X, y_final, test_size=0.3, random_state=43)\n",
    "print(f\"✅ Training data shape: {X_train.shape}\")\n",
    "print(f\"✅ Test data shape: {X_test.shape}\")\n"
   ]
  },
  {
   "cell_type": "code",
   "execution_count": null,
   "metadata": {
    "execution": {
     "iopub.execute_input": "2025-07-28T19:02:59.669806Z",
     "iopub.status.busy": "2025-07-28T19:02:59.669186Z",
     "iopub.status.idle": "2025-07-28T19:04:20.356237Z",
     "shell.execute_reply": "2025-07-28T19:04:20.355572Z",
     "shell.execute_reply.started": "2025-07-28T19:02:59.669783Z"
    },
    "executionInfo": {
     "elapsed": 49968,
     "status": "ok",
     "timestamp": 1753193308994,
     "user": {
      "displayName": "Gemie Sonamai",
      "userId": "08768956709421337895"
     },
     "user_tz": -420
    },
    "id": "5LaEvdSeetJb",
    "outputId": "79b96e70-d153-4df7-adbe-fd0d6c078ff1",
    "trusted": true
   },
   "outputs": [
    {
     "name": "stderr",
     "output_type": "stream",
     "text": [
      "c:\\Users\\prajw\\Desktop\\Projects\\Sign Language\\.venv\\Lib\\site-packages\\keras\\src\\layers\\core\\dense.py:92: UserWarning: Do not pass an `input_shape`/`input_dim` argument to a layer. When using Sequential models, prefer using an `Input(shape)` object as the first layer in the model instead.\n",
      "  super().__init__(activity_regularizer=activity_regularizer, **kwargs)\n"
     ]
    },
    {
     "data": {
      "text/html": [
       "<pre style=\"white-space:pre;overflow-x:auto;line-height:normal;font-family:Menlo,'DejaVu Sans Mono',consolas,'Courier New',monospace\"><span style=\"font-weight: bold\">Model: \"sequential\"</span>\n",
       "</pre>\n"
      ],
      "text/plain": [
       "\u001b[1mModel: \"sequential\"\u001b[0m\n"
      ]
     },
     "metadata": {},
     "output_type": "display_data"
    },
    {
     "data": {
      "text/html": [
       "<pre style=\"white-space:pre;overflow-x:auto;line-height:normal;font-family:Menlo,'DejaVu Sans Mono',consolas,'Courier New',monospace\">┏━━━━━━━━━━━━━━━━━━━━━━━━━━━━━━━━━┳━━━━━━━━━━━━━━━━━━━━━━━━┳━━━━━━━━━━━━━━━┓\n",
       "┃<span style=\"font-weight: bold\"> Layer (type)                    </span>┃<span style=\"font-weight: bold\"> Output Shape           </span>┃<span style=\"font-weight: bold\">       Param # </span>┃\n",
       "┡━━━━━━━━━━━━━━━━━━━━━━━━━━━━━━━━━╇━━━━━━━━━━━━━━━━━━━━━━━━╇━━━━━━━━━━━━━━━┩\n",
       "│ dense (<span style=\"color: #0087ff; text-decoration-color: #0087ff\">Dense</span>)                   │ (<span style=\"color: #00d7ff; text-decoration-color: #00d7ff\">None</span>, <span style=\"color: #00af00; text-decoration-color: #00af00\">256</span>)            │        <span style=\"color: #00af00; text-decoration-color: #00af00\">75,008</span> │\n",
       "├─────────────────────────────────┼────────────────────────┼───────────────┤\n",
       "│ dropout (<span style=\"color: #0087ff; text-decoration-color: #0087ff\">Dropout</span>)               │ (<span style=\"color: #00d7ff; text-decoration-color: #00d7ff\">None</span>, <span style=\"color: #00af00; text-decoration-color: #00af00\">256</span>)            │             <span style=\"color: #00af00; text-decoration-color: #00af00\">0</span> │\n",
       "├─────────────────────────────────┼────────────────────────┼───────────────┤\n",
       "│ dense_1 (<span style=\"color: #0087ff; text-decoration-color: #0087ff\">Dense</span>)                 │ (<span style=\"color: #00d7ff; text-decoration-color: #00d7ff\">None</span>, <span style=\"color: #00af00; text-decoration-color: #00af00\">128</span>)            │        <span style=\"color: #00af00; text-decoration-color: #00af00\">32,896</span> │\n",
       "├─────────────────────────────────┼────────────────────────┼───────────────┤\n",
       "│ dropout_1 (<span style=\"color: #0087ff; text-decoration-color: #0087ff\">Dropout</span>)             │ (<span style=\"color: #00d7ff; text-decoration-color: #00d7ff\">None</span>, <span style=\"color: #00af00; text-decoration-color: #00af00\">128</span>)            │             <span style=\"color: #00af00; text-decoration-color: #00af00\">0</span> │\n",
       "├─────────────────────────────────┼────────────────────────┼───────────────┤\n",
       "│ dense_2 (<span style=\"color: #0087ff; text-decoration-color: #0087ff\">Dense</span>)                 │ (<span style=\"color: #00d7ff; text-decoration-color: #00d7ff\">None</span>, <span style=\"color: #00af00; text-decoration-color: #00af00\">64</span>)             │         <span style=\"color: #00af00; text-decoration-color: #00af00\">8,256</span> │\n",
       "├─────────────────────────────────┼────────────────────────┼───────────────┤\n",
       "│ dropout_2 (<span style=\"color: #0087ff; text-decoration-color: #0087ff\">Dropout</span>)             │ (<span style=\"color: #00d7ff; text-decoration-color: #00d7ff\">None</span>, <span style=\"color: #00af00; text-decoration-color: #00af00\">64</span>)             │             <span style=\"color: #00af00; text-decoration-color: #00af00\">0</span> │\n",
       "├─────────────────────────────────┼────────────────────────┼───────────────┤\n",
       "│ dense_3 (<span style=\"color: #0087ff; text-decoration-color: #0087ff\">Dense</span>)                 │ (<span style=\"color: #00d7ff; text-decoration-color: #00d7ff\">None</span>, <span style=\"color: #00af00; text-decoration-color: #00af00\">32</span>)             │         <span style=\"color: #00af00; text-decoration-color: #00af00\">2,080</span> │\n",
       "├─────────────────────────────────┼────────────────────────┼───────────────┤\n",
       "│ dense_4 (<span style=\"color: #0087ff; text-decoration-color: #0087ff\">Dense</span>)                 │ (<span style=\"color: #00d7ff; text-decoration-color: #00d7ff\">None</span>, <span style=\"color: #00af00; text-decoration-color: #00af00\">28</span>)             │           <span style=\"color: #00af00; text-decoration-color: #00af00\">924</span> │\n",
       "└─────────────────────────────────┴────────────────────────┴───────────────┘\n",
       "</pre>\n"
      ],
      "text/plain": [
       "┏━━━━━━━━━━━━━━━━━━━━━━━━━━━━━━━━━┳━━━━━━━━━━━━━━━━━━━━━━━━┳━━━━━━━━━━━━━━━┓\n",
       "┃\u001b[1m \u001b[0m\u001b[1mLayer (type)                   \u001b[0m\u001b[1m \u001b[0m┃\u001b[1m \u001b[0m\u001b[1mOutput Shape          \u001b[0m\u001b[1m \u001b[0m┃\u001b[1m \u001b[0m\u001b[1m      Param #\u001b[0m\u001b[1m \u001b[0m┃\n",
       "┡━━━━━━━━━━━━━━━━━━━━━━━━━━━━━━━━━╇━━━━━━━━━━━━━━━━━━━━━━━━╇━━━━━━━━━━━━━━━┩\n",
       "│ dense (\u001b[38;5;33mDense\u001b[0m)                   │ (\u001b[38;5;45mNone\u001b[0m, \u001b[38;5;34m256\u001b[0m)            │        \u001b[38;5;34m75,008\u001b[0m │\n",
       "├─────────────────────────────────┼────────────────────────┼───────────────┤\n",
       "│ dropout (\u001b[38;5;33mDropout\u001b[0m)               │ (\u001b[38;5;45mNone\u001b[0m, \u001b[38;5;34m256\u001b[0m)            │             \u001b[38;5;34m0\u001b[0m │\n",
       "├─────────────────────────────────┼────────────────────────┼───────────────┤\n",
       "│ dense_1 (\u001b[38;5;33mDense\u001b[0m)                 │ (\u001b[38;5;45mNone\u001b[0m, \u001b[38;5;34m128\u001b[0m)            │        \u001b[38;5;34m32,896\u001b[0m │\n",
       "├─────────────────────────────────┼────────────────────────┼───────────────┤\n",
       "│ dropout_1 (\u001b[38;5;33mDropout\u001b[0m)             │ (\u001b[38;5;45mNone\u001b[0m, \u001b[38;5;34m128\u001b[0m)            │             \u001b[38;5;34m0\u001b[0m │\n",
       "├─────────────────────────────────┼────────────────────────┼───────────────┤\n",
       "│ dense_2 (\u001b[38;5;33mDense\u001b[0m)                 │ (\u001b[38;5;45mNone\u001b[0m, \u001b[38;5;34m64\u001b[0m)             │         \u001b[38;5;34m8,256\u001b[0m │\n",
       "├─────────────────────────────────┼────────────────────────┼───────────────┤\n",
       "│ dropout_2 (\u001b[38;5;33mDropout\u001b[0m)             │ (\u001b[38;5;45mNone\u001b[0m, \u001b[38;5;34m64\u001b[0m)             │             \u001b[38;5;34m0\u001b[0m │\n",
       "├─────────────────────────────────┼────────────────────────┼───────────────┤\n",
       "│ dense_3 (\u001b[38;5;33mDense\u001b[0m)                 │ (\u001b[38;5;45mNone\u001b[0m, \u001b[38;5;34m32\u001b[0m)             │         \u001b[38;5;34m2,080\u001b[0m │\n",
       "├─────────────────────────────────┼────────────────────────┼───────────────┤\n",
       "│ dense_4 (\u001b[38;5;33mDense\u001b[0m)                 │ (\u001b[38;5;45mNone\u001b[0m, \u001b[38;5;34m28\u001b[0m)             │           \u001b[38;5;34m924\u001b[0m │\n",
       "└─────────────────────────────────┴────────────────────────┴───────────────┘\n"
      ]
     },
     "metadata": {},
     "output_type": "display_data"
    },
    {
     "data": {
      "text/html": [
       "<pre style=\"white-space:pre;overflow-x:auto;line-height:normal;font-family:Menlo,'DejaVu Sans Mono',consolas,'Courier New',monospace\"><span style=\"font-weight: bold\"> Total params: </span><span style=\"color: #00af00; text-decoration-color: #00af00\">119,164</span> (465.48 KB)\n",
       "</pre>\n"
      ],
      "text/plain": [
       "\u001b[1m Total params: \u001b[0m\u001b[38;5;34m119,164\u001b[0m (465.48 KB)\n"
      ]
     },
     "metadata": {},
     "output_type": "display_data"
    },
    {
     "data": {
      "text/html": [
       "<pre style=\"white-space:pre;overflow-x:auto;line-height:normal;font-family:Menlo,'DejaVu Sans Mono',consolas,'Courier New',monospace\"><span style=\"font-weight: bold\"> Trainable params: </span><span style=\"color: #00af00; text-decoration-color: #00af00\">119,164</span> (465.48 KB)\n",
       "</pre>\n"
      ],
      "text/plain": [
       "\u001b[1m Trainable params: \u001b[0m\u001b[38;5;34m119,164\u001b[0m (465.48 KB)\n"
      ]
     },
     "metadata": {},
     "output_type": "display_data"
    },
    {
     "data": {
      "text/html": [
       "<pre style=\"white-space:pre;overflow-x:auto;line-height:normal;font-family:Menlo,'DejaVu Sans Mono',consolas,'Courier New',monospace\"><span style=\"font-weight: bold\"> Non-trainable params: </span><span style=\"color: #00af00; text-decoration-color: #00af00\">0</span> (0.00 B)\n",
       "</pre>\n"
      ],
      "text/plain": [
       "\u001b[1m Non-trainable params: \u001b[0m\u001b[38;5;34m0\u001b[0m (0.00 B)\n"
      ]
     },
     "metadata": {},
     "output_type": "display_data"
    },
    {
     "name": "stdout",
     "output_type": "stream",
     "text": [
      "Epoch 1/50\n",
      "\n",
      "Epoch 1: val_accuracy improved from None to 0.64409, saving model to ./working/models\\asl_model.h5\n"
     ]
    },
    {
     "name": "stderr",
     "output_type": "stream",
     "text": [
      "WARNING:absl:You are saving your model as an HDF5 file via `model.save()` or `keras.saving.save_model(model)`. This file format is considered legacy. We recommend using instead the native Keras format, e.g. `model.save('my_model.keras')` or `keras.saving.save_model(model, 'my_model.keras')`. \n"
     ]
    },
    {
     "name": "stdout",
     "output_type": "stream",
     "text": [
      "735/735 - 3s - 4ms/step - accuracy: 0.2700 - loss: 3.1533 - val_accuracy: 0.6441 - val_loss: 1.0508\n",
      "Epoch 2/50\n",
      "\n",
      "Epoch 2: val_accuracy improved from 0.64409 to 0.82196, saving model to ./working/models\\asl_model.h5\n"
     ]
    },
    {
     "name": "stderr",
     "output_type": "stream",
     "text": [
      "WARNING:absl:You are saving your model as an HDF5 file via `model.save()` or `keras.saving.save_model(model)`. This file format is considered legacy. We recommend using instead the native Keras format, e.g. `model.save('my_model.keras')` or `keras.saving.save_model(model, 'my_model.keras')`. \n"
     ]
    },
    {
     "name": "stdout",
     "output_type": "stream",
     "text": [
      "735/735 - 2s - 2ms/step - accuracy: 0.6243 - loss: 1.1014 - val_accuracy: 0.8220 - val_loss: 0.5307\n",
      "Epoch 3/50\n",
      "\n",
      "Epoch 3: val_accuracy improved from 0.82196 to 0.84374, saving model to ./working/models\\asl_model.h5\n"
     ]
    },
    {
     "name": "stderr",
     "output_type": "stream",
     "text": [
      "WARNING:absl:You are saving your model as an HDF5 file via `model.save()` or `keras.saving.save_model(model)`. This file format is considered legacy. We recommend using instead the native Keras format, e.g. `model.save('my_model.keras')` or `keras.saving.save_model(model, 'my_model.keras')`. \n"
     ]
    },
    {
     "name": "stdout",
     "output_type": "stream",
     "text": [
      "735/735 - 2s - 3ms/step - accuracy: 0.7213 - loss: 0.8101 - val_accuracy: 0.8437 - val_loss: 0.4692\n",
      "Epoch 4/50\n",
      "\n",
      "Epoch 4: val_accuracy improved from 0.84374 to 0.87251, saving model to ./working/models\\asl_model.h5\n"
     ]
    },
    {
     "name": "stderr",
     "output_type": "stream",
     "text": [
      "WARNING:absl:You are saving your model as an HDF5 file via `model.save()` or `keras.saving.save_model(model)`. This file format is considered legacy. We recommend using instead the native Keras format, e.g. `model.save('my_model.keras')` or `keras.saving.save_model(model, 'my_model.keras')`. \n"
     ]
    },
    {
     "name": "stdout",
     "output_type": "stream",
     "text": [
      "735/735 - 2s - 3ms/step - accuracy: 0.7615 - loss: 0.7068 - val_accuracy: 0.8725 - val_loss: 0.3840\n",
      "Epoch 5/50\n",
      "\n",
      "Epoch 5: val_accuracy improved from 0.87251 to 0.89089, saving model to ./working/models\\asl_model.h5\n"
     ]
    },
    {
     "name": "stderr",
     "output_type": "stream",
     "text": [
      "WARNING:absl:You are saving your model as an HDF5 file via `model.save()` or `keras.saving.save_model(model)`. This file format is considered legacy. We recommend using instead the native Keras format, e.g. `model.save('my_model.keras')` or `keras.saving.save_model(model, 'my_model.keras')`. \n"
     ]
    },
    {
     "name": "stdout",
     "output_type": "stream",
     "text": [
      "735/735 - 2s - 3ms/step - accuracy: 0.7963 - loss: 0.6124 - val_accuracy: 0.8909 - val_loss: 0.3646\n",
      "Epoch 6/50\n",
      "\n",
      "Epoch 6: val_accuracy improved from 0.89089 to 0.90230, saving model to ./working/models\\asl_model.h5\n"
     ]
    },
    {
     "name": "stderr",
     "output_type": "stream",
     "text": [
      "WARNING:absl:You are saving your model as an HDF5 file via `model.save()` or `keras.saving.save_model(model)`. This file format is considered legacy. We recommend using instead the native Keras format, e.g. `model.save('my_model.keras')` or `keras.saving.save_model(model, 'my_model.keras')`. \n"
     ]
    },
    {
     "name": "stdout",
     "output_type": "stream",
     "text": [
      "735/735 - 2s - 3ms/step - accuracy: 0.8139 - loss: 0.5563 - val_accuracy: 0.9023 - val_loss: 0.3412\n",
      "Epoch 7/50\n",
      "\n",
      "Epoch 7: val_accuracy did not improve from 0.90230\n",
      "735/735 - 2s - 2ms/step - accuracy: 0.8237 - loss: 0.5452 - val_accuracy: 0.9006 - val_loss: 0.3291\n",
      "Epoch 8/50\n",
      "\n",
      "Epoch 8: val_accuracy improved from 0.90230 to 0.91268, saving model to ./working/models\\asl_model.h5\n"
     ]
    },
    {
     "name": "stderr",
     "output_type": "stream",
     "text": [
      "WARNING:absl:You are saving your model as an HDF5 file via `model.save()` or `keras.saving.save_model(model)`. This file format is considered legacy. We recommend using instead the native Keras format, e.g. `model.save('my_model.keras')` or `keras.saving.save_model(model, 'my_model.keras')`. \n"
     ]
    },
    {
     "name": "stdout",
     "output_type": "stream",
     "text": [
      "735/735 - 2s - 2ms/step - accuracy: 0.8368 - loss: 0.5104 - val_accuracy: 0.9127 - val_loss: 0.3154\n",
      "Epoch 9/50\n",
      "\n",
      "Epoch 9: val_accuracy improved from 0.91268 to 0.91455, saving model to ./working/models\\asl_model.h5\n"
     ]
    },
    {
     "name": "stderr",
     "output_type": "stream",
     "text": [
      "WARNING:absl:You are saving your model as an HDF5 file via `model.save()` or `keras.saving.save_model(model)`. This file format is considered legacy. We recommend using instead the native Keras format, e.g. `model.save('my_model.keras')` or `keras.saving.save_model(model, 'my_model.keras')`. \n"
     ]
    },
    {
     "name": "stdout",
     "output_type": "stream",
     "text": [
      "735/735 - 2s - 2ms/step - accuracy: 0.8474 - loss: 0.4827 - val_accuracy: 0.9146 - val_loss: 0.2769\n",
      "Epoch 10/50\n",
      "\n",
      "Epoch 10: val_accuracy improved from 0.91455 to 0.92170, saving model to ./working/models\\asl_model.h5\n"
     ]
    },
    {
     "name": "stderr",
     "output_type": "stream",
     "text": [
      "WARNING:absl:You are saving your model as an HDF5 file via `model.save()` or `keras.saving.save_model(model)`. This file format is considered legacy. We recommend using instead the native Keras format, e.g. `model.save('my_model.keras')` or `keras.saving.save_model(model, 'my_model.keras')`. \n"
     ]
    },
    {
     "name": "stdout",
     "output_type": "stream",
     "text": [
      "735/735 - 2s - 2ms/step - accuracy: 0.8469 - loss: 0.4806 - val_accuracy: 0.9217 - val_loss: 0.2948\n",
      "Epoch 11/50\n",
      "\n",
      "Epoch 11: val_accuracy did not improve from 0.92170\n",
      "735/735 - 2s - 2ms/step - accuracy: 0.8554 - loss: 0.4526 - val_accuracy: 0.8955 - val_loss: 0.3281\n",
      "Epoch 12/50\n",
      "\n",
      "Epoch 12: val_accuracy improved from 0.92170 to 0.93719, saving model to ./working/models\\asl_model.h5\n"
     ]
    },
    {
     "name": "stderr",
     "output_type": "stream",
     "text": [
      "WARNING:absl:You are saving your model as an HDF5 file via `model.save()` or `keras.saving.save_model(model)`. This file format is considered legacy. We recommend using instead the native Keras format, e.g. `model.save('my_model.keras')` or `keras.saving.save_model(model, 'my_model.keras')`. \n"
     ]
    },
    {
     "name": "stdout",
     "output_type": "stream",
     "text": [
      "735/735 - 2s - 2ms/step - accuracy: 0.8640 - loss: 0.4370 - val_accuracy: 0.9372 - val_loss: 0.2435\n",
      "Epoch 13/50\n",
      "\n",
      "Epoch 13: val_accuracy did not improve from 0.93719\n",
      "735/735 - 2s - 2ms/step - accuracy: 0.8685 - loss: 0.4294 - val_accuracy: 0.9222 - val_loss: 0.2608\n",
      "Epoch 14/50\n",
      "\n",
      "Epoch 14: val_accuracy did not improve from 0.93719\n",
      "735/735 - 2s - 3ms/step - accuracy: 0.8739 - loss: 0.4082 - val_accuracy: 0.9226 - val_loss: 0.2521\n",
      "Epoch 15/50\n",
      "\n",
      "Epoch 15: val_accuracy did not improve from 0.93719\n",
      "735/735 - 2s - 3ms/step - accuracy: 0.8789 - loss: 0.4040 - val_accuracy: 0.9319 - val_loss: 0.2358\n",
      "Epoch 16/50\n",
      "\n",
      "Epoch 16: val_accuracy improved from 0.93719 to 0.94094, saving model to ./working/models\\asl_model.h5\n"
     ]
    },
    {
     "name": "stderr",
     "output_type": "stream",
     "text": [
      "WARNING:absl:You are saving your model as an HDF5 file via `model.save()` or `keras.saving.save_model(model)`. This file format is considered legacy. We recommend using instead the native Keras format, e.g. `model.save('my_model.keras')` or `keras.saving.save_model(model, 'my_model.keras')`. \n"
     ]
    },
    {
     "name": "stdout",
     "output_type": "stream",
     "text": [
      "735/735 - 2s - 2ms/step - accuracy: 0.8796 - loss: 0.3890 - val_accuracy: 0.9409 - val_loss: 0.2264\n",
      "Epoch 17/50\n",
      "\n",
      "Epoch 17: val_accuracy improved from 0.94094 to 0.94740, saving model to ./working/models\\asl_model.h5\n"
     ]
    },
    {
     "name": "stderr",
     "output_type": "stream",
     "text": [
      "WARNING:absl:You are saving your model as an HDF5 file via `model.save()` or `keras.saving.save_model(model)`. This file format is considered legacy. We recommend using instead the native Keras format, e.g. `model.save('my_model.keras')` or `keras.saving.save_model(model, 'my_model.keras')`. \n"
     ]
    },
    {
     "name": "stdout",
     "output_type": "stream",
     "text": [
      "735/735 - 2s - 2ms/step - accuracy: 0.8807 - loss: 0.3954 - val_accuracy: 0.9474 - val_loss: 0.2213\n",
      "Epoch 18/50\n",
      "\n",
      "Epoch 18: val_accuracy did not improve from 0.94740\n",
      "735/735 - 2s - 2ms/step - accuracy: 0.8841 - loss: 0.3807 - val_accuracy: 0.9394 - val_loss: 0.2279\n",
      "Epoch 19/50\n",
      "\n",
      "Epoch 19: val_accuracy did not improve from 0.94740\n",
      "735/735 - 2s - 2ms/step - accuracy: 0.8850 - loss: 0.3799 - val_accuracy: 0.9357 - val_loss: 0.2274\n",
      "Epoch 20/50\n",
      "\n",
      "Epoch 20: val_accuracy improved from 0.94740 to 0.94774, saving model to ./working/models\\asl_model.h5\n"
     ]
    },
    {
     "name": "stderr",
     "output_type": "stream",
     "text": [
      "WARNING:absl:You are saving your model as an HDF5 file via `model.save()` or `keras.saving.save_model(model)`. This file format is considered legacy. We recommend using instead the native Keras format, e.g. `model.save('my_model.keras')` or `keras.saving.save_model(model, 'my_model.keras')`. \n"
     ]
    },
    {
     "name": "stdout",
     "output_type": "stream",
     "text": [
      "735/735 - 2s - 2ms/step - accuracy: 0.8896 - loss: 0.3652 - val_accuracy: 0.9477 - val_loss: 0.2093\n",
      "Epoch 21/50\n",
      "\n",
      "Epoch 21: val_accuracy did not improve from 0.94774\n",
      "735/735 - 2s - 2ms/step - accuracy: 0.8921 - loss: 0.3558 - val_accuracy: 0.9251 - val_loss: 0.2576\n",
      "Epoch 22/50\n",
      "\n",
      "Epoch 22: val_accuracy did not improve from 0.94774\n",
      "735/735 - 2s - 2ms/step - accuracy: 0.8942 - loss: 0.3546 - val_accuracy: 0.9437 - val_loss: 0.2200\n",
      "Epoch 23/50\n",
      "\n",
      "Epoch 23: val_accuracy improved from 0.94774 to 0.94843, saving model to ./working/models\\asl_model.h5\n"
     ]
    },
    {
     "name": "stderr",
     "output_type": "stream",
     "text": [
      "WARNING:absl:You are saving your model as an HDF5 file via `model.save()` or `keras.saving.save_model(model)`. This file format is considered legacy. We recommend using instead the native Keras format, e.g. `model.save('my_model.keras')` or `keras.saving.save_model(model, 'my_model.keras')`. \n"
     ]
    },
    {
     "name": "stdout",
     "output_type": "stream",
     "text": [
      "735/735 - 2s - 2ms/step - accuracy: 0.8957 - loss: 0.3413 - val_accuracy: 0.9484 - val_loss: 0.1994\n",
      "Epoch 24/50\n",
      "\n",
      "Epoch 24: val_accuracy did not improve from 0.94843\n",
      "735/735 - 2s - 2ms/step - accuracy: 0.9006 - loss: 0.3354 - val_accuracy: 0.9445 - val_loss: 0.2065\n",
      "Epoch 25/50\n",
      "\n",
      "Epoch 25: val_accuracy did not improve from 0.94843\n",
      "735/735 - 2s - 3ms/step - accuracy: 0.9016 - loss: 0.3403 - val_accuracy: 0.9467 - val_loss: 0.2036\n",
      "Epoch 26/50\n",
      "\n",
      "Epoch 26: val_accuracy did not improve from 0.94843\n",
      "735/735 - 2s - 2ms/step - accuracy: 0.8978 - loss: 0.3395 - val_accuracy: 0.9292 - val_loss: 0.2364\n",
      "Epoch 27/50\n",
      "\n",
      "Epoch 27: val_accuracy did not improve from 0.94843\n",
      "735/735 - 2s - 2ms/step - accuracy: 0.9026 - loss: 0.3279 - val_accuracy: 0.9406 - val_loss: 0.2098\n",
      "Epoch 28/50\n",
      "\n",
      "Epoch 28: val_accuracy improved from 0.94843 to 0.95404, saving model to ./working/models\\asl_model.h5\n"
     ]
    },
    {
     "name": "stderr",
     "output_type": "stream",
     "text": [
      "WARNING:absl:You are saving your model as an HDF5 file via `model.save()` or `keras.saving.save_model(model)`. This file format is considered legacy. We recommend using instead the native Keras format, e.g. `model.save('my_model.keras')` or `keras.saving.save_model(model, 'my_model.keras')`. \n"
     ]
    },
    {
     "name": "stdout",
     "output_type": "stream",
     "text": [
      "735/735 - 2s - 2ms/step - accuracy: 0.9063 - loss: 0.3277 - val_accuracy: 0.9540 - val_loss: 0.1771\n",
      "Epoch 29/50\n",
      "\n",
      "Epoch 29: val_accuracy did not improve from 0.95404\n",
      "735/735 - 2s - 2ms/step - accuracy: 0.9062 - loss: 0.3139 - val_accuracy: 0.9471 - val_loss: 0.1958\n",
      "Epoch 30/50\n",
      "\n",
      "Epoch 30: val_accuracy did not improve from 0.95404\n",
      "735/735 - 2s - 2ms/step - accuracy: 0.9070 - loss: 0.3127 - val_accuracy: 0.9496 - val_loss: 0.1855\n",
      "Epoch 31/50\n",
      "\n",
      "Epoch 31: val_accuracy did not improve from 0.95404\n",
      "735/735 - 2s - 2ms/step - accuracy: 0.9009 - loss: 0.3328 - val_accuracy: 0.9505 - val_loss: 0.1890\n",
      "Epoch 32/50\n",
      "\n",
      "Epoch 32: val_accuracy did not improve from 0.95404\n",
      "735/735 - 2s - 3ms/step - accuracy: 0.9043 - loss: 0.3218 - val_accuracy: 0.9425 - val_loss: 0.2145\n",
      "Epoch 33/50\n",
      "\n",
      "Epoch 33: val_accuracy did not improve from 0.95404\n",
      "735/735 - 2s - 2ms/step - accuracy: 0.9106 - loss: 0.2980 - val_accuracy: 0.9532 - val_loss: 0.1752\n",
      "Epoch 33: early stopping\n",
      "Restoring model weights from the end of the best epoch: 28.\n"
     ]
    },
    {
     "name": "stderr",
     "output_type": "stream",
     "text": [
      "WARNING:absl:You are saving your model as an HDF5 file via `model.save()` or `keras.saving.save_model(model)`. This file format is considered legacy. We recommend using instead the native Keras format, e.g. `model.save('my_model.keras')` or `keras.saving.save_model(model, 'my_model.keras')`. \n"
     ]
    },
    {
     "name": "stdout",
     "output_type": "stream",
     "text": [
      "✅ Model saved to ./working/models\\asl_model.h5\n",
      "\u001b[1m394/394\u001b[0m \u001b[32m━━━━━━━━━━━━━━━━━━━━\u001b[0m\u001b[37m\u001b[0m \u001b[1m0s\u001b[0m 1ms/step - accuracy: 0.9519 - loss: 0.1836\n",
      "🎯 Test accuracy: 0.95\n"
     ]
    }
   ],
   "source": [
    "from tensorflow.keras.models import Sequential\n",
    "from tensorflow.keras.layers import Dense, Dropout\n",
    "from tensorflow.keras.callbacks import ModelCheckpoint, EarlyStopping\n",
    "import os\n",
    "\n",
    "# Define model save path\n",
    "model_save_dir = './working/models'\n",
    "os.makedirs(model_save_dir, exist_ok=True)\n",
    "model_save_path = os.path.join(model_save_dir, 'asl_model.h5')\n",
    "\n",
    "num_classes = y_train.shape[1]\n",
    "\n",
    "model = Sequential([\n",
    "    Dense(256, activation='relu', input_shape=(X_train.shape[1],)),\n",
    "    Dropout(0.3),\n",
    "    Dense(128, activation='relu'),\n",
    "    Dropout(0.3),\n",
    "    Dense(64, activation='relu'),\n",
    "    Dropout(0.2),\n",
    "    Dense(32, activation='relu'),\n",
    "    Dense(num_classes, activation='softmax')\n",
    "])\n",
    "\n",
    "model.summary()\n",
    "\n",
    "model.compile(\n",
    "    optimizer='adam',\n",
    "    loss='categorical_crossentropy',\n",
    "    metrics=['accuracy']\n",
    ")\n",
    "\n",
    "checkpoint = ModelCheckpoint(\n",
    "    model_save_path,\n",
    "    monitor='val_accuracy',\n",
    "    save_best_only=True,\n",
    "    mode='max',\n",
    "    verbose=1\n",
    ")\n",
    "\n",
    "early_stop = EarlyStopping(\n",
    "    monitor='val_accuracy',\n",
    "    patience=5,\n",
    "    restore_best_weights=True,\n",
    "    verbose=1\n",
    ")\n",
    "\n",
    "history = model.fit(\n",
    "    X_train,\n",
    "    y_train,\n",
    "    epochs=50,\n",
    "    batch_size=32,\n",
    "    validation_split=0.2,\n",
    "    callbacks=[checkpoint, early_stop],\n",
    "    verbose=2\n",
    ")\n",
    "\n",
    "model.save(model_save_path)\n",
    "print(f\"✅ Model saved to {model_save_path}\")\n",
    "\n",
    "test_loss, test_acc = model.evaluate(X_test, y_test)\n",
    "print(f\"🎯 Test accuracy: {test_acc:.2f}\")\n"
   ]
  },
  {
   "cell_type": "code",
   "execution_count": 5,
   "metadata": {
    "execution": {
     "iopub.execute_input": "2025-07-28T19:04:24.228394Z",
     "iopub.status.busy": "2025-07-28T19:04:24.228075Z",
     "iopub.status.idle": "2025-07-28T19:04:24.243573Z",
     "shell.execute_reply": "2025-07-28T19:04:24.242860Z",
     "shell.execute_reply.started": "2025-07-28T19:04:24.228374Z"
    },
    "executionInfo": {
     "elapsed": 34,
     "status": "ok",
     "timestamp": 1753193641705,
     "user": {
      "displayName": "Gemie Sonamai",
      "userId": "08768956709421337895"
     },
     "user_tz": -420
    },
    "id": "k3b_u2blduw1",
    "outputId": "8afff894-afec-4b39-d3b9-7e1491e2ff7b",
    "trusted": true
   },
   "outputs": [
    {
     "data": {
      "text/html": [
       "<pre style=\"white-space:pre;overflow-x:auto;line-height:normal;font-family:Menlo,'DejaVu Sans Mono',consolas,'Courier New',monospace\"><span style=\"font-weight: bold\">Model: \"sequential\"</span>\n",
       "</pre>\n"
      ],
      "text/plain": [
       "\u001b[1mModel: \"sequential\"\u001b[0m\n"
      ]
     },
     "metadata": {},
     "output_type": "display_data"
    },
    {
     "data": {
      "text/html": [
       "<pre style=\"white-space:pre;overflow-x:auto;line-height:normal;font-family:Menlo,'DejaVu Sans Mono',consolas,'Courier New',monospace\">┏━━━━━━━━━━━━━━━━━━━━━━━━━━━━━━━━━┳━━━━━━━━━━━━━━━━━━━━━━━━┳━━━━━━━━━━━━━━━┓\n",
       "┃<span style=\"font-weight: bold\"> Layer (type)                    </span>┃<span style=\"font-weight: bold\"> Output Shape           </span>┃<span style=\"font-weight: bold\">       Param # </span>┃\n",
       "┡━━━━━━━━━━━━━━━━━━━━━━━━━━━━━━━━━╇━━━━━━━━━━━━━━━━━━━━━━━━╇━━━━━━━━━━━━━━━┩\n",
       "│ dense (<span style=\"color: #0087ff; text-decoration-color: #0087ff\">Dense</span>)                   │ (<span style=\"color: #00d7ff; text-decoration-color: #00d7ff\">None</span>, <span style=\"color: #00af00; text-decoration-color: #00af00\">256</span>)            │        <span style=\"color: #00af00; text-decoration-color: #00af00\">75,008</span> │\n",
       "├─────────────────────────────────┼────────────────────────┼───────────────┤\n",
       "│ dropout (<span style=\"color: #0087ff; text-decoration-color: #0087ff\">Dropout</span>)               │ (<span style=\"color: #00d7ff; text-decoration-color: #00d7ff\">None</span>, <span style=\"color: #00af00; text-decoration-color: #00af00\">256</span>)            │             <span style=\"color: #00af00; text-decoration-color: #00af00\">0</span> │\n",
       "├─────────────────────────────────┼────────────────────────┼───────────────┤\n",
       "│ dense_1 (<span style=\"color: #0087ff; text-decoration-color: #0087ff\">Dense</span>)                 │ (<span style=\"color: #00d7ff; text-decoration-color: #00d7ff\">None</span>, <span style=\"color: #00af00; text-decoration-color: #00af00\">128</span>)            │        <span style=\"color: #00af00; text-decoration-color: #00af00\">32,896</span> │\n",
       "├─────────────────────────────────┼────────────────────────┼───────────────┤\n",
       "│ dropout_1 (<span style=\"color: #0087ff; text-decoration-color: #0087ff\">Dropout</span>)             │ (<span style=\"color: #00d7ff; text-decoration-color: #00d7ff\">None</span>, <span style=\"color: #00af00; text-decoration-color: #00af00\">128</span>)            │             <span style=\"color: #00af00; text-decoration-color: #00af00\">0</span> │\n",
       "├─────────────────────────────────┼────────────────────────┼───────────────┤\n",
       "│ dense_2 (<span style=\"color: #0087ff; text-decoration-color: #0087ff\">Dense</span>)                 │ (<span style=\"color: #00d7ff; text-decoration-color: #00d7ff\">None</span>, <span style=\"color: #00af00; text-decoration-color: #00af00\">64</span>)             │         <span style=\"color: #00af00; text-decoration-color: #00af00\">8,256</span> │\n",
       "├─────────────────────────────────┼────────────────────────┼───────────────┤\n",
       "│ dropout_2 (<span style=\"color: #0087ff; text-decoration-color: #0087ff\">Dropout</span>)             │ (<span style=\"color: #00d7ff; text-decoration-color: #00d7ff\">None</span>, <span style=\"color: #00af00; text-decoration-color: #00af00\">64</span>)             │             <span style=\"color: #00af00; text-decoration-color: #00af00\">0</span> │\n",
       "├─────────────────────────────────┼────────────────────────┼───────────────┤\n",
       "│ dense_3 (<span style=\"color: #0087ff; text-decoration-color: #0087ff\">Dense</span>)                 │ (<span style=\"color: #00d7ff; text-decoration-color: #00d7ff\">None</span>, <span style=\"color: #00af00; text-decoration-color: #00af00\">32</span>)             │         <span style=\"color: #00af00; text-decoration-color: #00af00\">2,080</span> │\n",
       "├─────────────────────────────────┼────────────────────────┼───────────────┤\n",
       "│ dense_4 (<span style=\"color: #0087ff; text-decoration-color: #0087ff\">Dense</span>)                 │ (<span style=\"color: #00d7ff; text-decoration-color: #00d7ff\">None</span>, <span style=\"color: #00af00; text-decoration-color: #00af00\">28</span>)             │           <span style=\"color: #00af00; text-decoration-color: #00af00\">924</span> │\n",
       "└─────────────────────────────────┴────────────────────────┴───────────────┘\n",
       "</pre>\n"
      ],
      "text/plain": [
       "┏━━━━━━━━━━━━━━━━━━━━━━━━━━━━━━━━━┳━━━━━━━━━━━━━━━━━━━━━━━━┳━━━━━━━━━━━━━━━┓\n",
       "┃\u001b[1m \u001b[0m\u001b[1mLayer (type)                   \u001b[0m\u001b[1m \u001b[0m┃\u001b[1m \u001b[0m\u001b[1mOutput Shape          \u001b[0m\u001b[1m \u001b[0m┃\u001b[1m \u001b[0m\u001b[1m      Param #\u001b[0m\u001b[1m \u001b[0m┃\n",
       "┡━━━━━━━━━━━━━━━━━━━━━━━━━━━━━━━━━╇━━━━━━━━━━━━━━━━━━━━━━━━╇━━━━━━━━━━━━━━━┩\n",
       "│ dense (\u001b[38;5;33mDense\u001b[0m)                   │ (\u001b[38;5;45mNone\u001b[0m, \u001b[38;5;34m256\u001b[0m)            │        \u001b[38;5;34m75,008\u001b[0m │\n",
       "├─────────────────────────────────┼────────────────────────┼───────────────┤\n",
       "│ dropout (\u001b[38;5;33mDropout\u001b[0m)               │ (\u001b[38;5;45mNone\u001b[0m, \u001b[38;5;34m256\u001b[0m)            │             \u001b[38;5;34m0\u001b[0m │\n",
       "├─────────────────────────────────┼────────────────────────┼───────────────┤\n",
       "│ dense_1 (\u001b[38;5;33mDense\u001b[0m)                 │ (\u001b[38;5;45mNone\u001b[0m, \u001b[38;5;34m128\u001b[0m)            │        \u001b[38;5;34m32,896\u001b[0m │\n",
       "├─────────────────────────────────┼────────────────────────┼───────────────┤\n",
       "│ dropout_1 (\u001b[38;5;33mDropout\u001b[0m)             │ (\u001b[38;5;45mNone\u001b[0m, \u001b[38;5;34m128\u001b[0m)            │             \u001b[38;5;34m0\u001b[0m │\n",
       "├─────────────────────────────────┼────────────────────────┼───────────────┤\n",
       "│ dense_2 (\u001b[38;5;33mDense\u001b[0m)                 │ (\u001b[38;5;45mNone\u001b[0m, \u001b[38;5;34m64\u001b[0m)             │         \u001b[38;5;34m8,256\u001b[0m │\n",
       "├─────────────────────────────────┼────────────────────────┼───────────────┤\n",
       "│ dropout_2 (\u001b[38;5;33mDropout\u001b[0m)             │ (\u001b[38;5;45mNone\u001b[0m, \u001b[38;5;34m64\u001b[0m)             │             \u001b[38;5;34m0\u001b[0m │\n",
       "├─────────────────────────────────┼────────────────────────┼───────────────┤\n",
       "│ dense_3 (\u001b[38;5;33mDense\u001b[0m)                 │ (\u001b[38;5;45mNone\u001b[0m, \u001b[38;5;34m32\u001b[0m)             │         \u001b[38;5;34m2,080\u001b[0m │\n",
       "├─────────────────────────────────┼────────────────────────┼───────────────┤\n",
       "│ dense_4 (\u001b[38;5;33mDense\u001b[0m)                 │ (\u001b[38;5;45mNone\u001b[0m, \u001b[38;5;34m28\u001b[0m)             │           \u001b[38;5;34m924\u001b[0m │\n",
       "└─────────────────────────────────┴────────────────────────┴───────────────┘\n"
      ]
     },
     "metadata": {},
     "output_type": "display_data"
    },
    {
     "data": {
      "text/html": [
       "<pre style=\"white-space:pre;overflow-x:auto;line-height:normal;font-family:Menlo,'DejaVu Sans Mono',consolas,'Courier New',monospace\"><span style=\"font-weight: bold\"> Total params: </span><span style=\"color: #00af00; text-decoration-color: #00af00\">357,498</span> (1.36 MB)\n",
       "</pre>\n"
      ],
      "text/plain": [
       "\u001b[1m Total params: \u001b[0m\u001b[38;5;34m357,498\u001b[0m (1.36 MB)\n"
      ]
     },
     "metadata": {},
     "output_type": "display_data"
    },
    {
     "data": {
      "text/html": [
       "<pre style=\"white-space:pre;overflow-x:auto;line-height:normal;font-family:Menlo,'DejaVu Sans Mono',consolas,'Courier New',monospace\"><span style=\"font-weight: bold\"> Trainable params: </span><span style=\"color: #00af00; text-decoration-color: #00af00\">119,164</span> (465.48 KB)\n",
       "</pre>\n"
      ],
      "text/plain": [
       "\u001b[1m Trainable params: \u001b[0m\u001b[38;5;34m119,164\u001b[0m (465.48 KB)\n"
      ]
     },
     "metadata": {},
     "output_type": "display_data"
    },
    {
     "data": {
      "text/html": [
       "<pre style=\"white-space:pre;overflow-x:auto;line-height:normal;font-family:Menlo,'DejaVu Sans Mono',consolas,'Courier New',monospace\"><span style=\"font-weight: bold\"> Non-trainable params: </span><span style=\"color: #00af00; text-decoration-color: #00af00\">0</span> (0.00 B)\n",
       "</pre>\n"
      ],
      "text/plain": [
       "\u001b[1m Non-trainable params: \u001b[0m\u001b[38;5;34m0\u001b[0m (0.00 B)\n"
      ]
     },
     "metadata": {},
     "output_type": "display_data"
    },
    {
     "data": {
      "text/html": [
       "<pre style=\"white-space:pre;overflow-x:auto;line-height:normal;font-family:Menlo,'DejaVu Sans Mono',consolas,'Courier New',monospace\"><span style=\"font-weight: bold\"> Optimizer params: </span><span style=\"color: #00af00; text-decoration-color: #00af00\">238,334</span> (931.00 KB)\n",
       "</pre>\n"
      ],
      "text/plain": [
       "\u001b[1m Optimizer params: \u001b[0m\u001b[38;5;34m238,334\u001b[0m (931.00 KB)\n"
      ]
     },
     "metadata": {},
     "output_type": "display_data"
    }
   ],
   "source": [
    "model.summary()"
   ]
  },
  {
   "cell_type": "code",
   "execution_count": null,
   "metadata": {
    "execution": {
     "iopub.execute_input": "2025-07-28T19:04:30.557395Z",
     "iopub.status.busy": "2025-07-28T19:04:30.556701Z",
     "iopub.status.idle": "2025-07-28T19:04:31.194282Z",
     "shell.execute_reply": "2025-07-28T19:04:31.193486Z",
     "shell.execute_reply.started": "2025-07-28T19:04:30.557373Z"
    },
    "executionInfo": {
     "elapsed": 172,
     "status": "ok",
     "timestamp": 1753194497394,
     "user": {
      "displayName": "Gemie Sonamai",
      "userId": "08768956709421337895"
     },
     "user_tz": -420
    },
    "id": "0G-jFYr4gXuG",
    "outputId": "4df3e646-1dc1-49ed-905b-2f604087535f",
    "trusted": true
   },
   "outputs": [
    {
     "data": {
      "image/png": "[encoded data removed]",
      "text/plain": [
       "<Figure size 1400x500 with 2 Axes>"
      ]
     },
     "metadata": {},
     "output_type": "display_data"
    }
   ],
   "source": [
    "import matplotlib.pyplot as plt\n",
    "\n",
    "# Extract metrics\n",
    "acc = history.history['accuracy']\n",
    "val_acc = history.history['val_accuracy']\n",
    "loss = history.history['loss']\n",
    "val_loss = history.history['val_loss']\n",
    "epochs = range(1, len(acc) + 1)\n",
    "\n",
    "# Plot Accuracy\n",
    "plt.figure(figsize=(14, 5))\n",
    "\n",
    "plt.subplot(1, 2, 1)\n",
    "plt.plot(epochs, acc, label='Training Accuracy')\n",
    "plt.plot(epochs, val_acc, label='Validation Accuracy')\n",
    "plt.title('Model Accuracy Over Epochs')\n",
    "plt.xlabel('Epoch')\n",
    "plt.ylabel('Accuracy')\n",
    "plt.legend()\n",
    "plt.grid(True)\n",
    "\n",
    "# Plot Loss\n",
    "plt.subplot(1, 2, 2)\n",
    "plt.plot(epochs, loss, label='Training Loss')\n",
    "plt.plot(epochs, val_loss, label='Validation Loss')\n",
    "plt.title('Model Loss Over Epochs')\n",
    "plt.xlabel('Epoch')\n",
    "plt.ylabel('Loss')\n",
    "plt.legend()\n",
    "plt.grid(True)\n",
    "\n",
    "plt.tight_layout()\n",
    "plt.show()"
   ]
  },
  {
   "cell_type": "code",
   "execution_count": 8,
   "metadata": {
    "execution": {
     "iopub.execute_input": "2025-07-28T19:04:36.248655Z",
     "iopub.status.busy": "2025-07-28T19:04:36.248367Z",
     "iopub.status.idle": "2025-07-28T19:04:36.253803Z",
     "shell.execute_reply": "2025-07-28T19:04:36.253190Z",
     "shell.execute_reply.started": "2025-07-28T19:04:36.248618Z"
    },
    "executionInfo": {
     "elapsed": 68,
     "status": "ok",
     "timestamp": 1753194498695,
     "user": {
      "displayName": "Gemie Sonamai",
      "userId": "08768956709421337895"
     },
     "user_tz": -420
    },
    "id": "xBeunR4VhZxL",
    "outputId": "4bbb8cd4-9392-402e-98de-d70dc66d63d5",
    "trusted": true
   },
   "outputs": [
    {
     "name": "stdout",
     "output_type": "stream",
     "text": [
      "['asl_model.h5']\n"
     ]
    }
   ],
   "source": [
    "print(os.listdir(\"./working/models/\"))"
   ]
  },
  {
   "cell_type": "code",
   "execution_count": null,
   "metadata": {
    "trusted": true
   },
   "outputs": [
    {
     "name": "stdout",
     "output_type": "stream",
     "text": [
      "\u001b[1m394/394\u001b[0m \u001b[32m━━━━━━━━━━━━━━━━━━━━\u001b[0m\u001b[37m\u001b[0m \u001b[1m0s\u001b[0m 884us/step\n",
      "📊 Per-Letter Accuracy:\n",
      "🔤 A        — Accuracy: 0.96\n",
      "🔤 B        — Accuracy: 0.98\n",
      "🔤 Blank    — Accuracy: 0.00\n",
      "🔤 C        — Accuracy: 0.95\n",
      "🔤 D        — Accuracy: 0.96\n",
      "🔤 E        — Accuracy: 0.99\n",
      "🔤 F        — Accuracy: 1.00\n",
      "🔤 G        — Accuracy: 0.84\n",
      "🔤 H        — Accuracy: 1.00\n",
      "🔤 I        — Accuracy: 0.97\n",
      "🔤 J        — Accuracy: 0.99\n",
      "🔤 K        — Accuracy: 0.99\n",
      "🔤 L        — Accuracy: 1.00\n",
      "🔤 M        — Accuracy: 0.84\n",
      "🔤 N        — Accuracy: 0.93\n",
      "🔤 O        — Accuracy: 0.96\n",
      "🔤 P        — Accuracy: 0.96\n",
      "🔤 Q        — Accuracy: 0.88\n",
      "🔤 R        — Accuracy: 0.96\n",
      "🔤 S        — Accuracy: 0.96\n",
      "🔤 T        — Accuracy: 0.98\n",
      "🔤 U        — Accuracy: 0.84\n",
      "🔤 V        — Accuracy: 0.95\n",
      "🔤 W        — Accuracy: 1.00\n",
      "🔤 X        — Accuracy: 0.97\n",
      "🔤 Y        — Accuracy: 1.00\n",
      "🔤 Z        — Accuracy: 0.96\n",
      "🔤 blank    — Accuracy: 1.00\n"
     ]
    },
    {
     "name": "stderr",
     "output_type": "stream",
     "text": [
      "c:\\Users\\prajw\\Desktop\\Projects\\Sign Language\\.venv\\Lib\\site-packages\\sklearn\\metrics\\_classification.py:1731: UndefinedMetricWarning: Precision is ill-defined and being set to 0.0 in labels with no predicted samples. Use `zero_division` parameter to control this behavior.\n",
      "  _warn_prf(average, modifier, f\"{metric.capitalize()} is\", result.shape[0])\n",
      "c:\\Users\\prajw\\Desktop\\Projects\\Sign Language\\.venv\\Lib\\site-packages\\sklearn\\metrics\\_classification.py:1731: UndefinedMetricWarning: Precision is ill-defined and being set to 0.0 in labels with no predicted samples. Use `zero_division` parameter to control this behavior.\n",
      "  _warn_prf(average, modifier, f\"{metric.capitalize()} is\", result.shape[0])\n",
      "c:\\Users\\prajw\\Desktop\\Projects\\Sign Language\\.venv\\Lib\\site-packages\\sklearn\\metrics\\_classification.py:1731: UndefinedMetricWarning: Precision is ill-defined and being set to 0.0 in labels with no predicted samples. Use `zero_division` parameter to control this behavior.\n",
      "  _warn_prf(average, modifier, f\"{metric.capitalize()} is\", result.shape[0])\n"
     ]
    }
   ],
   "source": [
    "import numpy as np\n",
    "from sklearn.metrics import classification_report, confusion_matrix\n",
    "\n",
    "# Decode predictions\n",
    "y_true_labels = encoder.inverse_transform(np.argmax(y_test, axis=1))\n",
    "y_pred_probs = model.predict(X_test)\n",
    "y_pred_labels = encoder.inverse_transform(np.argmax(y_pred_probs, axis=1))\n",
    "\n",
    "# Classification report\n",
    "report = classification_report(y_true_labels, y_pred_labels, output_dict=True)\n",
    "\n",
    "# Display per-letter accuracy\n",
    "print(\"📊 Per-Letter Accuracy:\")\n",
    "for label in sorted(set(y_true_labels)):\n",
    "    acc = report[label]['precision']\n",
    "    print(f\"🔤 {label:<8} — Accuracy: {acc:.2f}\")"
   ]
  },
  {
   "cell_type": "code",
   "execution_count": 10,
   "metadata": {
    "execution": {
     "iopub.execute_input": "2025-07-27T23:11:33.859176Z",
     "iopub.status.busy": "2025-07-27T23:11:33.858733Z",
     "iopub.status.idle": "2025-07-27T23:11:33.941885Z",
     "shell.execute_reply": "2025-07-27T23:11:33.937728Z",
     "shell.execute_reply.started": "2025-07-27T23:11:33.859129Z"
    },
    "trusted": true
   },
   "outputs": [
    {
     "name": "stderr",
     "output_type": "stream",
     "text": [
      "WARNING:absl:Compiled the loaded model, but the compiled metrics have yet to be built. `model.compile_metrics` will be empty until you train or evaluate the model.\n"
     ]
    },
    {
     "name": "stdout",
     "output_type": "stream",
     "text": [
      "Python version: 3.12.3 (tags/v3.12.3:f6650f9, Apr  9 2024, 14:05:25) [MSC v.1938 64 bit (AMD64)]\n",
      "TensorFlow version: 2.19.0\n",
      "Keras version: 3.11.1\n",
      "h5py version: 3.14.0\n",
      "numpy version: 1.26.4\n",
      "\n",
      "Model file exists: True\n",
      "Model file size: 1478688 bytes\n",
      "Model file permissions: 666\n",
      "\n",
      "HDF5 file contents:\n",
      "Keys: ['model_weights', 'optimizer_weights']\n",
      "Model weights found in HDF5 file\n",
      "\n",
      "Model loaded successfully\n"
     ]
    },
    {
     "data": {
      "text/html": [
       "<pre style=\"white-space:pre;overflow-x:auto;line-height:normal;font-family:Menlo,'DejaVu Sans Mono',consolas,'Courier New',monospace\"><span style=\"font-weight: bold\">Model: \"sequential\"</span>\n",
       "</pre>\n"
      ],
      "text/plain": [
       "\u001b[1mModel: \"sequential\"\u001b[0m\n"
      ]
     },
     "metadata": {},
     "output_type": "display_data"
    },
    {
     "data": {
      "text/html": [
       "<pre style=\"white-space:pre;overflow-x:auto;line-height:normal;font-family:Menlo,'DejaVu Sans Mono',consolas,'Courier New',monospace\">┏━━━━━━━━━━━━━━━━━━━━━━━━━━━━━━━━━┳━━━━━━━━━━━━━━━━━━━━━━━━┳━━━━━━━━━━━━━━━┓\n",
       "┃<span style=\"font-weight: bold\"> Layer (type)                    </span>┃<span style=\"font-weight: bold\"> Output Shape           </span>┃<span style=\"font-weight: bold\">       Param # </span>┃\n",
       "┡━━━━━━━━━━━━━━━━━━━━━━━━━━━━━━━━━╇━━━━━━━━━━━━━━━━━━━━━━━━╇━━━━━━━━━━━━━━━┩\n",
       "│ dense (<span style=\"color: #0087ff; text-decoration-color: #0087ff\">Dense</span>)                   │ (<span style=\"color: #00d7ff; text-decoration-color: #00d7ff\">None</span>, <span style=\"color: #00af00; text-decoration-color: #00af00\">256</span>)            │        <span style=\"color: #00af00; text-decoration-color: #00af00\">75,008</span> │\n",
       "├─────────────────────────────────┼────────────────────────┼───────────────┤\n",
       "│ dropout (<span style=\"color: #0087ff; text-decoration-color: #0087ff\">Dropout</span>)               │ (<span style=\"color: #00d7ff; text-decoration-color: #00d7ff\">None</span>, <span style=\"color: #00af00; text-decoration-color: #00af00\">256</span>)            │             <span style=\"color: #00af00; text-decoration-color: #00af00\">0</span> │\n",
       "├─────────────────────────────────┼────────────────────────┼───────────────┤\n",
       "│ dense_1 (<span style=\"color: #0087ff; text-decoration-color: #0087ff\">Dense</span>)                 │ (<span style=\"color: #00d7ff; text-decoration-color: #00d7ff\">None</span>, <span style=\"color: #00af00; text-decoration-color: #00af00\">128</span>)            │        <span style=\"color: #00af00; text-decoration-color: #00af00\">32,896</span> │\n",
       "├─────────────────────────────────┼────────────────────────┼───────────────┤\n",
       "│ dropout_1 (<span style=\"color: #0087ff; text-decoration-color: #0087ff\">Dropout</span>)             │ (<span style=\"color: #00d7ff; text-decoration-color: #00d7ff\">None</span>, <span style=\"color: #00af00; text-decoration-color: #00af00\">128</span>)            │             <span style=\"color: #00af00; text-decoration-color: #00af00\">0</span> │\n",
       "├─────────────────────────────────┼────────────────────────┼───────────────┤\n",
       "│ dense_2 (<span style=\"color: #0087ff; text-decoration-color: #0087ff\">Dense</span>)                 │ (<span style=\"color: #00d7ff; text-decoration-color: #00d7ff\">None</span>, <span style=\"color: #00af00; text-decoration-color: #00af00\">64</span>)             │         <span style=\"color: #00af00; text-decoration-color: #00af00\">8,256</span> │\n",
       "├─────────────────────────────────┼────────────────────────┼───────────────┤\n",
       "│ dropout_2 (<span style=\"color: #0087ff; text-decoration-color: #0087ff\">Dropout</span>)             │ (<span style=\"color: #00d7ff; text-decoration-color: #00d7ff\">None</span>, <span style=\"color: #00af00; text-decoration-color: #00af00\">64</span>)             │             <span style=\"color: #00af00; text-decoration-color: #00af00\">0</span> │\n",
       "├─────────────────────────────────┼────────────────────────┼───────────────┤\n",
       "│ dense_3 (<span style=\"color: #0087ff; text-decoration-color: #0087ff\">Dense</span>)                 │ (<span style=\"color: #00d7ff; text-decoration-color: #00d7ff\">None</span>, <span style=\"color: #00af00; text-decoration-color: #00af00\">32</span>)             │         <span style=\"color: #00af00; text-decoration-color: #00af00\">2,080</span> │\n",
       "├─────────────────────────────────┼────────────────────────┼───────────────┤\n",
       "│ dense_4 (<span style=\"color: #0087ff; text-decoration-color: #0087ff\">Dense</span>)                 │ (<span style=\"color: #00d7ff; text-decoration-color: #00d7ff\">None</span>, <span style=\"color: #00af00; text-decoration-color: #00af00\">28</span>)             │           <span style=\"color: #00af00; text-decoration-color: #00af00\">924</span> │\n",
       "└─────────────────────────────────┴────────────────────────┴───────────────┘\n",
       "</pre>\n"
      ],
      "text/plain": [
       "┏━━━━━━━━━━━━━━━━━━━━━━━━━━━━━━━━━┳━━━━━━━━━━━━━━━━━━━━━━━━┳━━━━━━━━━━━━━━━┓\n",
       "┃\u001b[1m \u001b[0m\u001b[1mLayer (type)                   \u001b[0m\u001b[1m \u001b[0m┃\u001b[1m \u001b[0m\u001b[1mOutput Shape          \u001b[0m\u001b[1m \u001b[0m┃\u001b[1m \u001b[0m\u001b[1m      Param #\u001b[0m\u001b[1m \u001b[0m┃\n",
       "┡━━━━━━━━━━━━━━━━━━━━━━━━━━━━━━━━━╇━━━━━━━━━━━━━━━━━━━━━━━━╇━━━━━━━━━━━━━━━┩\n",
       "│ dense (\u001b[38;5;33mDense\u001b[0m)                   │ (\u001b[38;5;45mNone\u001b[0m, \u001b[38;5;34m256\u001b[0m)            │        \u001b[38;5;34m75,008\u001b[0m │\n",
       "├─────────────────────────────────┼────────────────────────┼───────────────┤\n",
       "│ dropout (\u001b[38;5;33mDropout\u001b[0m)               │ (\u001b[38;5;45mNone\u001b[0m, \u001b[38;5;34m256\u001b[0m)            │             \u001b[38;5;34m0\u001b[0m │\n",
       "├─────────────────────────────────┼────────────────────────┼───────────────┤\n",
       "│ dense_1 (\u001b[38;5;33mDense\u001b[0m)                 │ (\u001b[38;5;45mNone\u001b[0m, \u001b[38;5;34m128\u001b[0m)            │        \u001b[38;5;34m32,896\u001b[0m │\n",
       "├─────────────────────────────────┼────────────────────────┼───────────────┤\n",
       "│ dropout_1 (\u001b[38;5;33mDropout\u001b[0m)             │ (\u001b[38;5;45mNone\u001b[0m, \u001b[38;5;34m128\u001b[0m)            │             \u001b[38;5;34m0\u001b[0m │\n",
       "├─────────────────────────────────┼────────────────────────┼───────────────┤\n",
       "│ dense_2 (\u001b[38;5;33mDense\u001b[0m)                 │ (\u001b[38;5;45mNone\u001b[0m, \u001b[38;5;34m64\u001b[0m)             │         \u001b[38;5;34m8,256\u001b[0m │\n",
       "├─────────────────────────────────┼────────────────────────┼───────────────┤\n",
       "│ dropout_2 (\u001b[38;5;33mDropout\u001b[0m)             │ (\u001b[38;5;45mNone\u001b[0m, \u001b[38;5;34m64\u001b[0m)             │             \u001b[38;5;34m0\u001b[0m │\n",
       "├─────────────────────────────────┼────────────────────────┼───────────────┤\n",
       "│ dense_3 (\u001b[38;5;33mDense\u001b[0m)                 │ (\u001b[38;5;45mNone\u001b[0m, \u001b[38;5;34m32\u001b[0m)             │         \u001b[38;5;34m2,080\u001b[0m │\n",
       "├─────────────────────────────────┼────────────────────────┼───────────────┤\n",
       "│ dense_4 (\u001b[38;5;33mDense\u001b[0m)                 │ (\u001b[38;5;45mNone\u001b[0m, \u001b[38;5;34m28\u001b[0m)             │           \u001b[38;5;34m924\u001b[0m │\n",
       "└─────────────────────────────────┴────────────────────────┴───────────────┘\n"
      ]
     },
     "metadata": {},
     "output_type": "display_data"
    },
    {
     "data": {
      "text/html": [
       "<pre style=\"white-space:pre;overflow-x:auto;line-height:normal;font-family:Menlo,'DejaVu Sans Mono',consolas,'Courier New',monospace\"><span style=\"font-weight: bold\"> Total params: </span><span style=\"color: #00af00; text-decoration-color: #00af00\">119,170</span> (465.52 KB)\n",
       "</pre>\n"
      ],
      "text/plain": [
       "\u001b[1m Total params: \u001b[0m\u001b[38;5;34m119,170\u001b[0m (465.52 KB)\n"
      ]
     },
     "metadata": {},
     "output_type": "display_data"
    },
    {
     "data": {
      "text/html": [
       "<pre style=\"white-space:pre;overflow-x:auto;line-height:normal;font-family:Menlo,'DejaVu Sans Mono',consolas,'Courier New',monospace\"><span style=\"font-weight: bold\"> Trainable params: </span><span style=\"color: #00af00; text-decoration-color: #00af00\">119,164</span> (465.48 KB)\n",
       "</pre>\n"
      ],
      "text/plain": [
       "\u001b[1m Trainable params: \u001b[0m\u001b[38;5;34m119,164\u001b[0m (465.48 KB)\n"
      ]
     },
     "metadata": {},
     "output_type": "display_data"
    },
    {
     "data": {
      "text/html": [
       "<pre style=\"white-space:pre;overflow-x:auto;line-height:normal;font-family:Menlo,'DejaVu Sans Mono',consolas,'Courier New',monospace\"><span style=\"font-weight: bold\"> Non-trainable params: </span><span style=\"color: #00af00; text-decoration-color: #00af00\">0</span> (0.00 B)\n",
       "</pre>\n"
      ],
      "text/plain": [
       "\u001b[1m Non-trainable params: \u001b[0m\u001b[38;5;34m0\u001b[0m (0.00 B)\n"
      ]
     },
     "metadata": {},
     "output_type": "display_data"
    },
    {
     "data": {
      "text/html": [
       "<pre style=\"white-space:pre;overflow-x:auto;line-height:normal;font-family:Menlo,'DejaVu Sans Mono',consolas,'Courier New',monospace\"><span style=\"font-weight: bold\"> Optimizer params: </span><span style=\"color: #00af00; text-decoration-color: #00af00\">6</span> (36.00 B)\n",
       "</pre>\n"
      ],
      "text/plain": [
       "\u001b[1m Optimizer params: \u001b[0m\u001b[38;5;34m6\u001b[0m (36.00 B)\n"
      ]
     },
     "metadata": {},
     "output_type": "display_data"
    }
   ],
   "source": [
    "import sys\n",
    "import tensorflow as tf\n",
    "import h5py\n",
    "import os\n",
    "import numpy\n",
    "\n",
    "# Define model path from your training code\n",
    "model_save_dir = './working/models'\n",
    "model_save_path = os.path.join(model_save_dir, 'asl_model.h5')\n",
    "\n",
    "# Print environment versions\n",
    "print(f\"Python version: {sys.version}\")\n",
    "print(f\"TensorFlow version: {tf.__version__}\")\n",
    "print(f\"Keras version: {tf.keras.__version__}\")\n",
    "print(f\"h5py version: {h5py.__version__}\")\n",
    "\n",
    "print(f\"numpy version: {numpy.__version__}\")\n",
    "\n",
    "# Check model file existence and details\n",
    "print(f\"\\nModel file exists: {os.path.exists(model_save_path)}\")\n",
    "if os.path.exists(model_save_path):\n",
    "    print(f\"Model file size: {os.path.getsize(model_save_path)} bytes\")\n",
    "    print(f\"Model file permissions: {oct(os.stat(model_save_path).st_mode)[-3:]}\")\n",
    "    \n",
    "    # Inspect model structure\n",
    "    try:\n",
    "        with h5py.File(model_save_path, 'r') as f:\n",
    "            print(\"\\nHDF5 file contents:\")\n",
    "            print(f\"Keys: {list(f.keys())}\")\n",
    "            if 'model_config' in f:\n",
    "                print(\"Model config found in HDF5 file\")\n",
    "            if 'model_weights' in f:\n",
    "                print(\"Model weights found in HDF5 file\")\n",
    "        \n",
    "        # Load and summarize model\n",
    "        model = tf.keras.models.load_model(model_save_path)\n",
    "        print(\"\\nModel loaded successfully\")\n",
    "        model.summary()\n",
    "    except Exception as e:\n",
    "        print(f\"Error loading model: {str(e)}\")\n",
    "else:\n",
    "    print(\"Model file not found at:\", model_save_path)"
   ]
  }
 ],
 "metadata": {
  "accelerator": "GPU",
  "colab": {
   "gpuType": "T4",
   "provenance": [
    {
     "file_id": "1wxb_uhii63EA4pPY_iYdNp2EYBe28LxQ",
     "timestamp": 1753420110880
    }
   ]
  },
  "kaggle": {
   "accelerator": "nvidiaTeslaT4",
   "dataSources": [
    {
     "datasetId": 23079,
     "sourceId": 29550,
     "sourceType": "datasetVersion"
    },
    {
     "datasetId": 2275641,
     "sourceId": 3821116,
     "sourceType": "datasetVersion"
    }
   ],
   "dockerImageVersionId": 31089,
   "isGpuEnabled": true,
   "isInternetEnabled": true,
   "language": "python",
   "sourceType": "notebook"
  },
  "kernelspec": {
   "display_name": ".venv",
   "language": "python",
   "name": "python3"
  },
  "language_info": {
   "codemirror_mode": {
    "name": "ipython",
    "version": 3
   },
   "file_extension": ".py",
   "mimetype": "text/x-python",
   "name": "python",
   "nbconvert_exporter": "python",
   "pygments_lexer": "ipython3",
   "version": "3.12.3"
  }
 },
 "nbformat": 4,
 "nbformat_minor": 4
}
